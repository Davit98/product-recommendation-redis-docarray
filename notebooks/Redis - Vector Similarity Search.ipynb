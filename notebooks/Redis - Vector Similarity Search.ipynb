{
 "cells": [
  {
   "cell_type": "code",
   "execution_count": 1,
   "id": "1f3d2a40",
   "metadata": {},
   "outputs": [],
   "source": [
    "import numpy as np\n",
    "\n",
    "from numpy.linalg import norm\n",
    "from sentence_transformers import SentenceTransformer"
   ]
  },
  {
   "cell_type": "code",
   "execution_count": 2,
   "id": "384ba7cf",
   "metadata": {},
   "outputs": [],
   "source": [
    "# Define the model we want to use (it'll download itself)\n",
    "model = SentenceTransformer('sentence-transformers/all-MiniLM-L6-v2')\n",
    "\n",
    "sentences = [\n",
    "  \"That is a very happy person\",\n",
    "  \"That is a happy dog\",\n",
    "  \"Today is a sunny day\", \n",
    "  \"You are a happy person\",\n",
    "]\n",
    "\n",
    "# vector embeddings created from dataset\n",
    "embeddings = model.encode(sentences)"
   ]
  },
  {
   "cell_type": "code",
   "execution_count": 3,
   "id": "ae799df8",
   "metadata": {},
   "outputs": [],
   "source": [
    "# query vector embedding\n",
    "query_embedding = model.encode(\"That is a happy person\")"
   ]
  },
  {
   "cell_type": "code",
   "execution_count": 4,
   "id": "5fb5dbdc",
   "metadata": {},
   "outputs": [
    {
     "name": "stdout",
     "output_type": "stream",
     "text": [
      "Query: That is a happy person\n",
      "That is a very happy person  -> similarity score =  0.9429152\n",
      "That is a happy dog  -> similarity score =  0.69457746\n",
      "Today is a sunny day  -> similarity score =  0.2568761\n",
      "You are a happy person  -> similarity score =  0.7832136\n"
     ]
    }
   ],
   "source": [
    "# define our distance metric\n",
    "def cosine_similarity(a, b):\n",
    "    return np.dot(a, b)/(norm(a)*norm(b))\n",
    "\n",
    "# run semantic similarity search\n",
    "print(\"Query: That is a happy person\")\n",
    "for e, s in zip(embeddings, sentences):\n",
    "    print(s, \" -> similarity score = \",\n",
    "         cosine_similarity(e, query_embedding))"
   ]
  },
  {
   "cell_type": "markdown",
   "id": "96268511",
   "metadata": {},
   "source": [
    "---"
   ]
  },
  {
   "cell_type": "code",
   "execution_count": 5,
   "id": "f28dbb48",
   "metadata": {},
   "outputs": [],
   "source": [
    "import os\n",
    "from dotenv import load_dotenv\n",
    "\n",
    "load_dotenv()\n",
    "\n",
    "import redis\n",
    "from redis.commands.search.field import TagField, VectorField\n",
    "from redis.commands.search.indexDefinition import IndexDefinition, IndexType\n",
    "from redis.commands.search.query import Query"
   ]
  },
  {
   "cell_type": "code",
   "execution_count": 6,
   "id": "8a3c4969",
   "metadata": {},
   "outputs": [],
   "source": [
    "r = redis.Redis(\n",
    "  host='redis-13273.c266.us-east-1-3.ec2.cloud.redislabs.com',\n",
    "  port=13273,\n",
    "  password=os.getenv('REDIS_PASSWORD')\n",
    ")"
   ]
  },
  {
   "cell_type": "code",
   "execution_count": 7,
   "id": "61790648",
   "metadata": {},
   "outputs": [],
   "source": [
    "INDEX_NAME = \"index\" # Vector Index Name\n",
    "DOC_PREFIX = \"doc:\" # RediSearch Key Prefix for the Index"
   ]
  },
  {
   "cell_type": "code",
   "execution_count": 8,
   "id": "ba685ed5",
   "metadata": {},
   "outputs": [
    {
     "data": {
      "text/plain": [
       "b'OK'"
      ]
     },
     "execution_count": 8,
     "metadata": {},
     "output_type": "execute_result"
    }
   ],
   "source": [
    "# r.ft(INDEX_NAME).dropindex(delete_documents=True)"
   ]
  },
  {
   "cell_type": "code",
   "execution_count": 9,
   "id": "61788e75",
   "metadata": {},
   "outputs": [],
   "source": [
    "def create_index(vector_dimensions: int):\n",
    "    try:\n",
    "        # check to see if index exists\n",
    "        r.ft(INDEX_NAME).info()\n",
    "        print(\"Index already exists!\")\n",
    "    except:\n",
    "        # schema\n",
    "        schema = (\n",
    "            TagField(\"tag\"),                       # Tag Field Name\n",
    "            VectorField(\"vector\",                  # Vector Field Name\n",
    "                \"FLAT\", {                          # Vector Index Type: FLAT or HNSW\n",
    "                    \"TYPE\": \"FLOAT32\",             # FLOAT32 or FLOAT64\n",
    "                    \"DIM\": vector_dimensions,      # Number of Vector Dimensions\n",
    "                    \"DISTANCE_METRIC\": \"COSINE\",   # Vector Search Distance Metric\n",
    "                }\n",
    "            ),\n",
    "        )\n",
    "\n",
    "        # index Definition\n",
    "        definition = IndexDefinition(prefix=[DOC_PREFIX], index_type=IndexType.HASH)\n",
    "\n",
    "        # create Index\n",
    "        r.ft(INDEX_NAME).create_index(fields=schema, definition=definition)"
   ]
  },
  {
   "cell_type": "code",
   "execution_count": 10,
   "id": "005c8307",
   "metadata": {},
   "outputs": [],
   "source": [
    "# define vector dimensions\n",
    "VECTOR_DIMENSIONS = len(query_embedding)\n",
    "\n",
    "# create the index\n",
    "create_index(vector_dimensions=VECTOR_DIMENSIONS)"
   ]
  },
  {
   "cell_type": "code",
   "execution_count": 11,
   "id": "f31d41a2",
   "metadata": {},
   "outputs": [],
   "source": [
    "# Write to Redis\n",
    "pipe = r.pipeline()\n",
    "for i, embedding in enumerate(embeddings):\n",
    "    pipe.hset(f\"doc:{i}\", mapping = {\n",
    "        \"vector\": embedding.tobytes(),\n",
    "        \"content\": sentences[i],\n",
    "        \"tag\": \"mytag\"\n",
    "    })\n",
    "res = pipe.execute()"
   ]
  },
  {
   "cell_type": "code",
   "execution_count": 12,
   "id": "5ca2cb0b",
   "metadata": {
    "scrolled": true
   },
   "outputs": [
    {
     "data": {
      "text/plain": [
       "[Document {'id': 'doc:0', 'payload': None, 'score': '0.0570849180222', 'content': 'That is a very happy person', 'tag': 'mytag'},\n",
       " Document {'id': 'doc:3', 'payload': None, 'score': '0.216786384583', 'content': 'You are a happy person', 'tag': 'mytag'},\n",
       " Document {'id': 'doc:1', 'payload': None, 'score': '0.305422663689', 'content': 'That is a happy dog', 'tag': 'mytag'}]"
      ]
     },
     "execution_count": 12,
     "metadata": {},
     "output_type": "execute_result"
    }
   ],
   "source": [
    "query = (\n",
    "    Query(\"(@tag:{ mytag })=>[KNN 3 @vector $vec as score]\")\n",
    "     .sort_by(\"score\")\n",
    "     .return_fields(\"content\", \"tag\", \"score\")\n",
    "     .paging(0, 3)\n",
    "     .dialect(2)\n",
    ")\n",
    "\n",
    "query_params = {\"vec\": query_embedding.tobytes()}\n",
    "r.ft(INDEX_NAME).search(query, query_params).docs"
   ]
  },
  {
   "cell_type": "code",
   "execution_count": null,
   "id": "f954491d",
   "metadata": {},
   "outputs": [],
   "source": []
  },
  {
   "cell_type": "code",
   "execution_count": null,
   "id": "c42aecce",
   "metadata": {},
   "outputs": [],
   "source": []
  },
  {
   "cell_type": "code",
   "execution_count": null,
   "id": "717d9857",
   "metadata": {},
   "outputs": [],
   "source": []
  }
 ],
 "metadata": {
  "kernelspec": {
   "display_name": "Python 3 (ipykernel)",
   "language": "python",
   "name": "python3"
  },
  "language_info": {
   "codemirror_mode": {
    "name": "ipython",
    "version": 3
   },
   "file_extension": ".py",
   "mimetype": "text/x-python",
   "name": "python",
   "nbconvert_exporter": "python",
   "pygments_lexer": "ipython3",
   "version": "3.9.16"
  }
 },
 "nbformat": 4,
 "nbformat_minor": 5
}
