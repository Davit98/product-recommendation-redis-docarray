{
 "cells": [
  {
   "cell_type": "code",
   "execution_count": 1,
   "id": "1f3d2a40",
   "metadata": {
    "pycharm": {
     "name": "#%%\n"
    }
   },
   "outputs": [],
   "source": [
    "import numpy as np\n",
    "\n",
    "from numpy.linalg import norm\n",
    "from sentence_transformers import SentenceTransformer"
   ]
  },
  {
   "cell_type": "code",
   "execution_count": 2,
   "id": "384ba7cf",
   "metadata": {
    "pycharm": {
     "name": "#%%\n"
    }
   },
   "outputs": [],
   "source": [
    "# Define the model we want to use (it'll download itself)\n",
    "model = SentenceTransformer('sentence-transformers/all-MiniLM-L6-v2')\n",
    "\n",
    "sentences = [\n",
    "  \"That is a very happy person\",\n",
    "  \"That is a happy dog\",\n",
    "  \"Today is a sunny day\", \n",
    "  \"You are a happy person\",\n",
    "]\n",
    "\n",
    "# vector embeddings created from dataset\n",
    "embeddings = model.encode(sentences)"
   ]
  },
  {
   "cell_type": "code",
   "execution_count": 3,
   "id": "ae799df8",
   "metadata": {
    "pycharm": {
     "name": "#%%\n"
    }
   },
   "outputs": [],
   "source": [
    "# query vector embedding\n",
    "query_embedding = model.encode(\"That is a happy person\")"
   ]
  },
  {
   "cell_type": "code",
   "execution_count": 4,
   "id": "5fb5dbdc",
   "metadata": {
    "pycharm": {
     "name": "#%%\n"
    }
   },
   "outputs": [
    {
     "name": "stdout",
     "output_type": "stream",
     "text": [
      "Query: That is a happy person\n",
      "That is a very happy person  -> similarity score =  0.9429152\n",
      "That is a happy dog  -> similarity score =  0.69457746\n",
      "Today is a sunny day  -> similarity score =  0.2568761\n",
      "You are a happy person  -> similarity score =  0.7832136\n"
     ]
    }
   ],
   "source": [
    "# define our distance metric\n",
    "def cosine_similarity(a, b):\n",
    "    return np.dot(a, b)/(norm(a)*norm(b))\n",
    "\n",
    "# run semantic similarity search\n",
    "print(\"Query: That is a happy person\")\n",
    "for e, s in zip(embeddings, sentences):\n",
    "    print(s, \" -> similarity score = \",\n",
    "         cosine_similarity(e, query_embedding))"
   ]
  },
  {
   "cell_type": "markdown",
   "id": "96268511",
   "metadata": {
    "pycharm": {
     "name": "#%% md\n"
    }
   },
   "source": [
    "---"
   ]
  },
  {
   "cell_type": "markdown",
   "id": "6e809a1e",
   "metadata": {},
   "source": [
    "### Now with Feliks's data"
   ]
  },
  {
   "cell_type": "code",
   "execution_count": 5,
   "id": "42d332c0",
   "metadata": {},
   "outputs": [],
   "source": [
    "with open('feliks_data.txt') as f:\n",
    "    lines = f.readlines()"
   ]
  },
  {
   "cell_type": "code",
   "execution_count": 6,
   "id": "74d9333d",
   "metadata": {},
   "outputs": [
    {
     "data": {
      "text/plain": [
       "[\"'Equality 🙋\\\\u200d♀️: Why we still need to fight for equality and people / companies who inspire me ✨\",\n",
       " \"'Melon 👷\\\\u200d♀️: Content related to building Melon 🧡🙌\"]"
      ]
     },
     "execution_count": 6,
     "metadata": {},
     "output_type": "execute_result"
    }
   ],
   "source": [
    "sentences = lines[0][1:-3].split(\"\\', \")\n",
    "sentences[:2]"
   ]
  },
  {
   "cell_type": "code",
   "execution_count": 7,
   "id": "59e5acc7",
   "metadata": {},
   "outputs": [],
   "source": [
    "embeddings = model.encode(sentences)"
   ]
  },
  {
   "cell_type": "code",
   "execution_count": 8,
   "id": "6b5f3511",
   "metadata": {},
   "outputs": [
    {
     "data": {
      "text/plain": [
       "357"
      ]
     },
     "execution_count": 8,
     "metadata": {},
     "output_type": "execute_result"
    }
   ],
   "source": [
    "len(embeddings)"
   ]
  },
  {
   "cell_type": "code",
   "execution_count": 9,
   "id": "f1ae57af",
   "metadata": {},
   "outputs": [],
   "source": [
    "query_embedding = model.encode(\"UX from A to Z: You may wonder how it works\")"
   ]
  },
  {
   "cell_type": "code",
   "execution_count": 10,
   "id": "b0d8d2b6",
   "metadata": {},
   "outputs": [],
   "source": [
    "results = {}\n",
    "for e, s in zip(embeddings, sentences):\n",
    "    results[s] = cosine_similarity(e, query_embedding)"
   ]
  },
  {
   "cell_type": "code",
   "execution_count": 11,
   "id": "88c0a370",
   "metadata": {},
   "outputs": [],
   "source": [
    "results_top_10 = dict(sorted(results.items(), key=lambda item: -item[1])[:10])"
   ]
  },
  {
   "cell_type": "code",
   "execution_count": 12,
   "id": "7ceccd54",
   "metadata": {},
   "outputs": [
    {
     "name": "stdout",
     "output_type": "stream",
     "text": [
      "Query = UX from A to Z: You may wonder how it works\n",
      "'UX Theory: Links to read about UX Design -> similarity score = 0.41197308897972107\n",
      "'💙 UX/UI |  Articles: Stuff worth reading, looking at and revisiting!  -> similarity score = 0.3675541281700134\n",
      "'Networking & leads through linkedin🌀: gathered gems from all over for me and you to be successful on linkedin -> similarity score = 0.313284307718277\n",
      "'Learn: Business: Biz materials you might not have thought about. -> similarity score = 0.31268030405044556\n",
      "'My ux tips : Tips&truk  -> similarity score = 0.3097940981388092\n",
      "'Digital nomad : Everything about life as a digital nomad an how to achieve it🤞🏼 -> similarity score = 0.2970907688140869\n",
      "'UX design: Great resources to learn and improve UX design -> similarity score = 0.288242906332016\n",
      "'Photoshop: About photoshop -> similarity score = 0.2880149781703949\n",
      "'Procreate tutorial 💘: Mastering your skills in procreate✨ -> similarity score = 0.28796523809432983\n",
      "'Al tips: Shortcuts -> similarity score = 0.2860671579837799\n"
     ]
    }
   ],
   "source": [
    "print(\"Query = UX from A to Z: You may wonder how it works\")\n",
    "for k, v in results_top_10.items():\n",
    "    print(f\"{k} -> similarity score = {v}\")"
   ]
  },
  {
   "cell_type": "markdown",
   "id": "a0708484",
   "metadata": {},
   "source": [
    "---"
   ]
  },
  {
   "cell_type": "code",
   "execution_count": 13,
   "id": "f28dbb48",
   "metadata": {
    "pycharm": {
     "name": "#%%\n"
    }
   },
   "outputs": [],
   "source": [
    "import os\n",
    "from dotenv import load_dotenv\n",
    "\n",
    "load_dotenv()\n",
    "\n",
    "import redis\n",
    "from redis.commands.search.field import TagField, VectorField\n",
    "from redis.commands.search.indexDefinition import IndexDefinition, IndexType\n",
    "from redis.commands.search.query import Query"
   ]
  },
  {
   "cell_type": "code",
   "execution_count": 14,
   "id": "8a3c4969",
   "metadata": {
    "pycharm": {
     "name": "#%%\n"
    }
   },
   "outputs": [],
   "source": [
    "r = redis.Redis(\n",
    "  host='redis-13273.c266.us-east-1-3.ec2.cloud.redislabs.com',\n",
    "  port=13273,\n",
    "  password=os.getenv('REDIS_PASSWORD')\n",
    ")"
   ]
  },
  {
   "cell_type": "code",
   "execution_count": 15,
   "id": "61790648",
   "metadata": {
    "pycharm": {
     "name": "#%%\n"
    }
   },
   "outputs": [],
   "source": [
    "INDEX_NAME = \"index\" # Vector Index Name\n",
    "DOC_PREFIX = \"doc:\" # RediSearch Key Prefix for the Index"
   ]
  },
  {
   "cell_type": "code",
   "execution_count": 16,
   "id": "ba685ed5",
   "metadata": {
    "pycharm": {
     "name": "#%%\n"
    }
   },
   "outputs": [
    {
     "data": {
      "text/plain": [
       "b'OK'"
      ]
     },
     "execution_count": 16,
     "metadata": {},
     "output_type": "execute_result"
    }
   ],
   "source": [
    "r.ft(INDEX_NAME).dropindex(delete_documents=True)"
   ]
  },
  {
   "cell_type": "code",
   "execution_count": 17,
   "id": "b3b21530",
   "metadata": {},
   "outputs": [
    {
     "data": {
      "text/plain": [
       "True"
      ]
     },
     "execution_count": 17,
     "metadata": {},
     "output_type": "execute_result"
    }
   ],
   "source": [
    "r.flushdb()"
   ]
  },
  {
   "cell_type": "code",
   "execution_count": 18,
   "id": "61788e75",
   "metadata": {
    "pycharm": {
     "name": "#%%\n"
    }
   },
   "outputs": [],
   "source": [
    "def create_index(vector_dimensions: int):\n",
    "    try:\n",
    "        # check to see if index exists\n",
    "        r.ft(INDEX_NAME).info()\n",
    "        print(\"Index already exists!\")\n",
    "    except:\n",
    "        # schema\n",
    "        schema = (\n",
    "            TagField(\"tag\"),                       # Tag Field Name\n",
    "            VectorField(\"vector\",                  # Vector Field Name\n",
    "                \"FLAT\", {                          # Vector Index Type: FLAT or HNSW\n",
    "                    \"TYPE\": \"FLOAT32\",             # FLOAT32 or FLOAT64\n",
    "                    \"DIM\": vector_dimensions,      # Number of Vector Dimensions\n",
    "                    \"DISTANCE_METRIC\": \"COSINE\",   # Vector Search Distance Metric\n",
    "                }\n",
    "            ),\n",
    "        )\n",
    "\n",
    "        # index Definition\n",
    "        definition = IndexDefinition(prefix=[DOC_PREFIX], index_type=IndexType.HASH)\n",
    "\n",
    "        # create Index\n",
    "        r.ft(INDEX_NAME).create_index(fields=schema, definition=definition)"
   ]
  },
  {
   "cell_type": "code",
   "execution_count": 19,
   "id": "005c8307",
   "metadata": {
    "pycharm": {
     "name": "#%%\n"
    }
   },
   "outputs": [],
   "source": [
    "# define vector dimensions\n",
    "VECTOR_DIMENSIONS = len(query_embedding)\n",
    "\n",
    "# create the index\n",
    "create_index(vector_dimensions=VECTOR_DIMENSIONS)"
   ]
  },
  {
   "cell_type": "code",
   "execution_count": 20,
   "id": "f31d41a2",
   "metadata": {
    "pycharm": {
     "name": "#%%\n"
    }
   },
   "outputs": [],
   "source": [
    "# Write to Redis\n",
    "pipe = r.pipeline()\n",
    "for i, embedding in enumerate(embeddings):\n",
    "    pipe.hset(f\"doc:{i}\", mapping = {\n",
    "        \"vector\": embedding.tobytes(),\n",
    "        \"content\": sentences[i],\n",
    "        \"tag\": \"mytag\"\n",
    "    })\n",
    "res = pipe.execute()"
   ]
  },
  {
   "cell_type": "code",
   "execution_count": 21,
   "id": "5ca2cb0b",
   "metadata": {
    "pycharm": {
     "name": "#%%\n"
    },
    "scrolled": true
   },
   "outputs": [
    {
     "data": {
      "text/plain": [
       "[Document {'id': 'doc:288', 'payload': None, 'score': '0.588027000427', 'content': \"'UX Theory: Links to read about UX Design\", 'tag': 'mytag'},\n",
       " Document {'id': 'doc:343', 'payload': None, 'score': '0.632445931435', 'content': \"'💙 UX/UI |  Articles: Stuff worth reading, looking at and revisiting! \", 'tag': 'mytag'},\n",
       " Document {'id': 'doc:210', 'payload': None, 'score': '0.686715722084', 'content': \"'Networking & leads through linkedin🌀: gathered gems from all over for me and you to be successful on linkedin\", 'tag': 'mytag'},\n",
       " Document {'id': 'doc:56', 'payload': None, 'score': '0.687319755554', 'content': \"'Learn: Business: Biz materials you might not have thought about.\", 'tag': 'mytag'},\n",
       " Document {'id': 'doc:272', 'payload': None, 'score': '0.690205931664', 'content': \"'My ux tips : Tips&truk \", 'tag': 'mytag'},\n",
       " Document {'id': 'doc:141', 'payload': None, 'score': '0.702909290791', 'content': \"'Digital nomad : Everything about life as a digital nomad an how to achieve it🤞🏼\", 'tag': 'mytag'},\n",
       " Document {'id': 'doc:65', 'payload': None, 'score': '0.71175712347', 'content': \"'UX design: Great resources to learn and improve UX design\", 'tag': 'mytag'},\n",
       " Document {'id': 'doc:155', 'payload': None, 'score': '0.711985111237', 'content': \"'Photoshop: About photoshop\", 'tag': 'mytag'},\n",
       " Document {'id': 'doc:219', 'payload': None, 'score': '0.71203482151', 'content': \"'Procreate tutorial 💘: Mastering your skills in procreate✨\", 'tag': 'mytag'},\n",
       " Document {'id': 'doc:344', 'payload': None, 'score': '0.713932871819', 'content': \"'Al tips: Shortcuts\", 'tag': 'mytag'}]"
      ]
     },
     "execution_count": 21,
     "metadata": {},
     "output_type": "execute_result"
    }
   ],
   "source": [
    "query = (\n",
    "    Query(\"(@tag:{ mytag })=>[KNN 10 @vector $vec as score]\")\n",
    "     .sort_by(\"score\")\n",
    "     .return_fields(\"content\", \"tag\", \"score\")\n",
    "     .paging(0, 10)\n",
    "     .dialect(2)\n",
    ")\n",
    "\n",
    "query_params = {\"vec\": query_embedding.tobytes()}\n",
    "r.ft(INDEX_NAME).search(query, query_params).docs"
   ]
  },
  {
   "cell_type": "code",
   "execution_count": null,
   "id": "c42aecce",
   "metadata": {
    "pycharm": {
     "name": "#%%\n"
    }
   },
   "outputs": [],
   "source": []
  },
  {
   "cell_type": "code",
   "execution_count": null,
   "id": "556b2577",
   "metadata": {},
   "outputs": [],
   "source": []
  },
  {
   "cell_type": "code",
   "execution_count": null,
   "id": "2342ad1c",
   "metadata": {},
   "outputs": [],
   "source": []
  }
 ],
 "metadata": {
  "kernelspec": {
   "display_name": "Python 3 (ipykernel)",
   "language": "python",
   "name": "python3"
  },
  "language_info": {
   "codemirror_mode": {
    "name": "ipython",
    "version": 3
   },
   "file_extension": ".py",
   "mimetype": "text/x-python",
   "name": "python",
   "nbconvert_exporter": "python",
   "pygments_lexer": "ipython3",
   "version": "3.9.16"
  }
 },
 "nbformat": 4,
 "nbformat_minor": 5
}
